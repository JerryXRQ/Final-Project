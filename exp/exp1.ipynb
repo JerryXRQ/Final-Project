{
 "cells": [
  {
   "cell_type": "code",
   "execution_count": 5,
   "id": "c8768ce4",
   "metadata": {},
   "outputs": [],
   "source": [
    "import sys\n",
    "sys.path.insert(0, '..')\n",
    "\n",
    "from utils import data\n",
    "import os\n",
    "import sklearn\n",
    "import numpy as np\n",
    "from sklearn.neighbors import (\n",
    "    KNeighborsClassifier,\n",
    "    DistanceMetric\n",
    ")\n",
    "import json\n",
    "import matplotlib.pyplot as plt"
   ]
  },
  {
   "cell_type": "code",
   "execution_count": 9,
   "id": "6a5a456a",
   "metadata": {},
   "outputs": [
    {
     "name": "stdout",
     "output_type": "stream",
     "text": [
      "[[nan 'Afghanistan' 33.0 65.0]\n",
      " [nan 'Albania' 41.1533 20.1683]\n",
      " [nan 'Algeria' 28.0339 1.6596]\n",
      " ...\n",
      " [nan 'Yemen' 15.552727 48.516388]\n",
      " [nan 'Zambia' -15.4167 28.2833]\n",
      " [nan 'Zimbabwe' -20.0 30.0]]\n"
     ]
    }
   ],
   "source": [
    "\n",
    "# ------------ HYPERPARAMETERS -------------\n",
    "BASE_PATH = '../COVID-19/csse_covid_19_data/'\n",
    "N_NEIGHBORS = 5\n",
    "MIN_CASES = 500000\n",
    "NORMALIZE = True\n",
    "# ------------------------------------------\n",
    "\n",
    "confirmed = os.path.join(\n",
    "    BASE_PATH, \n",
    "    'csse_covid_19_time_series',\n",
    "    'time_series_covid19_confirmed_global.csv')\n",
    "confirmed = data.load_csv_data(confirmed)\n",
    "features = []\n",
    "targets = []\n",
    "\n",
    "for val in np.unique(confirmed[\"Country/Region\"]):\n",
    "    df = data.filter_by_attribute(\n",
    "        confirmed, \"Country/Region\", val)\n",
    "    cases, labels = data.get_cases_chronologically(df)\n",
    "    features.append(cases)\n",
    "    targets.append(labels)\n",
    "\n",
    "features = np.concatenate(features, axis=0)\n",
    "targets = np.concatenate(targets, axis=0)\n",
    "print(targets)\n",
    "predictions = {}"
   ]
  },
  {
   "cell_type": "code",
   "execution_count": 1,
   "id": "9ab92c7b",
   "metadata": {},
   "outputs": [
    {
     "ename": "NameError",
     "evalue": "name 'os' is not defined",
     "output_type": "error",
     "traceback": [
      "\u001b[1;31m---------------------------------------------------------------------------\u001b[0m",
      "\u001b[1;31mNameError\u001b[0m                                 Traceback (most recent call last)",
      "\u001b[1;32m<ipython-input-1-f9915f5455aa>\u001b[0m in \u001b[0;36m<module>\u001b[1;34m\u001b[0m\n\u001b[0;32m     15\u001b[0m         \u001b[1;32mreturn\u001b[0m \u001b[1;36m6\u001b[0m\u001b[1;33m\u001b[0m\u001b[1;33m\u001b[0m\u001b[0m\n\u001b[0;32m     16\u001b[0m \u001b[1;33m\u001b[0m\u001b[0m\n\u001b[1;32m---> 17\u001b[1;33m confirmed = os.path.join(\n\u001b[0m\u001b[0;32m     18\u001b[0m     \u001b[0mBASE_PATH\u001b[0m\u001b[1;33m,\u001b[0m\u001b[1;33m\u001b[0m\u001b[1;33m\u001b[0m\u001b[0m\n\u001b[0;32m     19\u001b[0m     \u001b[1;34m'csse_covid_19_time_series'\u001b[0m\u001b[1;33m,\u001b[0m\u001b[1;33m\u001b[0m\u001b[1;33m\u001b[0m\u001b[0m\n",
      "\u001b[1;31mNameError\u001b[0m: name 'os' is not defined"
     ]
    }
   ],
   "source": [
    "def categorize(lat):\n",
    "    if lat<-45:\n",
    "        return 0\n",
    "    if lat>=-45 and lat<-30:\n",
    "        return 1\n",
    "    if lat>=-30 and lat<-15:\n",
    "        return 2\n",
    "    if lat>=-15 and lat<15:\n",
    "        return 3\n",
    "    if lat>=15 and lat<30:\n",
    "        return 4\n",
    "    if lat>=30 and lat<45:\n",
    "        return 5\n",
    "    if lat>=45 and lat<90:\n",
    "        return 6\n",
    "\n",
    "confirmed = os.path.join(\n",
    "    BASE_PATH, \n",
    "    'csse_covid_19_time_series',\n",
    "    'time_series_covid19_confirmed_global.csv')\n",
    "confirmed = data.load_csv_data(confirmed)\n",
    "features = []\n",
    "targets = []\n",
    "\n",
    "fig = plt.figure(figsize=(12, 12))\n",
    "ax = fig.add_subplot(111)\n",
    "cm = plt.get_cmap('jet')\n",
    "NUM_COLORS = 0\n",
    "LINE_STYLES = ['solid', 'dashed', 'dotted']\n",
    "NUM_STYLES = len(LINE_STYLES)\n",
    "\n",
    "\n",
    "colors = [\"darkblue\",\"green\",\"gold\",\"red\",\"gold\",\"green\",\"darkblue\"]\n",
    "legend = []\n",
    "handles = []\n",
    "all_lat=[\"-90 -- -45\",\"-45 -- -30\",\"-30 -- -15\", \"-15 -- 15\",\"15-30\", \"30 -- 45\", \"45 -- 90\"]\n",
    "\n",
    "for val in np.unique(confirmed[\"Country/Region\"]):\n",
    "    df = data.filter_by_attribute(\n",
    "        confirmed, \"Country/Region\", val)\n",
    "    cases, labels = data.get_cases_chronologically(df)\n",
    "    cases = cases.sum(axis=0)\n",
    "\n",
    "    if cases.sum() > MIN_CASES:\n",
    "        N_Cases=cases/cases.sum(axis=-1,keepdims=True)\n",
    "        lat=labels[0,2]\n",
    "        i=categorize(lat)\n",
    "        lines = ax.plot(N_Cases, label=labels[0,1])\n",
    "        handles.append(lines[0])\n",
    "        legend.append(labels[0,1])\n",
    "        #lines[0].set_linestyle(LINE_STYLES[i%NUM_STYLES])\n",
    "        lines[0].set_color(colors[i])\n",
    "\n",
    "\n",
    "\n",
    "ax.set_ylabel('# of confirmed cases')\n",
    "ax.set_xlabel(\"Time (days since Jan 22, 2020)\")\n",
    "\n",
    "ax.set_yscale('log')\n",
    "ax.legend(handles, legend, bbox_to_anchor=(0., 1.02, 1., .102), loc=3, ncol=4)\n",
    "plt.tight_layout()\n",
    "#plt.show()\n",
    "plt.savefig('Lat.png',facecolor=\"white\")\n",
    "\n",
    "    \n"
   ]
  },
  {
   "cell_type": "code",
   "execution_count": null,
   "id": "f4ca446a",
   "metadata": {},
   "outputs": [],
   "source": []
  }
 ],
 "metadata": {
  "kernelspec": {
   "display_name": "Python 3",
   "language": "python",
   "name": "python3"
  },
  "language_info": {
   "codemirror_mode": {
    "name": "ipython",
    "version": 3
   },
   "file_extension": ".py",
   "mimetype": "text/x-python",
   "name": "python",
   "nbconvert_exporter": "python",
   "pygments_lexer": "ipython3",
   "version": "3.7.10"
  }
 },
 "nbformat": 4,
 "nbformat_minor": 5
}
